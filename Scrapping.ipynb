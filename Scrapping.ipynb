{
  "nbformat": 4,
  "nbformat_minor": 0,
  "metadata": {
    "colab": {
      "provenance": []
    },
    "kernelspec": {
      "name": "python3",
      "display_name": "Python 3"
    },
    "language_info": {
      "name": "python"
    }
  },
  "cells": [
    {
      "cell_type": "code",
      "execution_count": 1,
      "metadata": {
        "colab": {
          "base_uri": "https://localhost:8080/",
          "height": 1000
        },
        "id": "dHcQ3iLyc0ry",
        "outputId": "9140d07f-0422-400b-cc6f-cb17fc711cab"
      },
      "outputs": [
        {
          "output_type": "stream",
          "name": "stdout",
          "text": [
            "Requirement already satisfied: beautifulsoup4 in /usr/local/lib/python3.10/dist-packages (4.12.3)\n",
            "Requirement already satisfied: requests in /usr/local/lib/python3.10/dist-packages (2.32.3)\n",
            "Requirement already satisfied: soupsieve>1.2 in /usr/local/lib/python3.10/dist-packages (from beautifulsoup4) (2.6)\n",
            "Requirement already satisfied: charset-normalizer<4,>=2 in /usr/local/lib/python3.10/dist-packages (from requests) (3.4.0)\n",
            "Requirement already satisfied: idna<4,>=2.5 in /usr/local/lib/python3.10/dist-packages (from requests) (3.10)\n",
            "Requirement already satisfied: urllib3<3,>=1.21.1 in /usr/local/lib/python3.10/dist-packages (from requests) (2.2.3)\n",
            "Requirement already satisfied: certifi>=2017.4.17 in /usr/local/lib/python3.10/dist-packages (from requests) (2024.8.30)\n",
            "Situs berhasil diakses!\n",
            "== Data Teks ==\n",
            "Paragraf 1:\n",
            "Persona 4ペルソナ4Perusona 4Game InformationDeveloperAtlusPublisherAtlus (JPN, NA)Square Enix (EU)Ubisoft(AU)Sony(KR)GenreRPGPlatformPlayStation 2,PlayStation 3*SalesFirst WeekJapan (PS2) - 211,967[1]Life to DateJapan (PS2) - 358,899 (294,214 +The Best64,685)NA - 100kDevelopmentDirector(s)Katsura HashinoWriter(s)Yuichiro TanakaAkira KawasakiArtist(s)Shigenori SoejimaSusumu NishizawaDesigner(s)Atsushi WatanabeAzusa KidoProgrammer(s)Yujiro KosakaComposer(s)Shoji MeguroRelease DatesJapanJuly 10, 2008The BestAugust 5, 2010North AmericaPlayStation 2December 9, 2008PlayStation StoreApril 8, 2014EuropeMarch 13, 2009AustraliaMarch 12, 2009South KoreaOctober 31, 2008\n",
            "\n",
            "Paragraf 2:\n",
            "Persona 4, localized in the West asShin Megami Tensei: Persona 4, is the fifth game in thePersonaseries. The game was developed by Atlus for thePlayStation 2, and was ported to thePlayStation 3's PlayStation Store as a downloadable classic akin toPersona 3 FES, but only in North/South America.\n",
            "\n",
            "Paragraf 3:\n",
            "An enhanced port ofPersona 4,Persona 4 Golden, was released in 2012 forPlayStation Vita, forSteamin 2020, and in 2023 forNintendo Switch,PlayStation 4,Xbox One,Xbox Series X/Sand the Microsoft Store on PC. It has many new features over the originalPersona 4and re-did certain enemy stats, dungeon aspects, voices for Chie and Teddie, among others.\n",
            "\n",
            "Paragraf 4:\n",
            "As withPersona 3, the game is a turn-based RPG akin to most games of theShin Megami Tenseiseries, although this game's plot is rather unique compared to other games in general and in its series as it is based off a murder mystery.\n",
            "\n",
            "Paragraf 5:\n",
            "Persona 4follows a group of high school students dealing with a mysterious TV channel dedicated to distorting and exaggerating the truth of who they are and their identities. A string of bizarre murders related to the TV channel begins shaking their once peaceful town. They explore the mysterious world inside the TV and perform rescue missions in order to save its victims from death. Only by looking past what is on the screen, finding and evaluating the truth among a myriad of lies can they hope to find the serial killer and save their town.\n",
            "\n",
            "\n",
            "== Data Gambar ==\n",
            "Gambar 1: https://static.wikia.nocookie.net/megamitensei/images/e/e6/Site-logo.png/revision/latest?cb=20210626181118\n"
          ]
        },
        {
          "output_type": "display_data",
          "data": {
            "text/html": [
              "<img src=\"https://static.wikia.nocookie.net/megamitensei/images/e/e6/Site-logo.png/revision/latest?cb=20210626181118\"/>"
            ],
            "text/plain": [
              "<IPython.core.display.Image object>"
            ]
          },
          "metadata": {}
        },
        {
          "output_type": "stream",
          "name": "stdout",
          "text": [
            "Gambar 2: https://static.wikia.nocookie.net/megamitensei/images/e/e6/Site-logo.png/revision/latest?cb=20210626181118\n"
          ]
        },
        {
          "output_type": "display_data",
          "data": {
            "text/html": [
              "<img src=\"https://static.wikia.nocookie.net/megamitensei/images/e/e6/Site-logo.png/revision/latest?cb=20210626181118\"/>"
            ],
            "text/plain": [
              "<IPython.core.display.Image object>"
            ]
          },
          "metadata": {}
        },
        {
          "output_type": "stream",
          "name": "stdout",
          "text": [
            "Gambar 3: https://static.wikia.nocookie.net/megamitensei/images/9/9b/P4-CoverArt.jpg/revision/latest/scale-to-width-down/350?cb=20160516234031\n"
          ]
        },
        {
          "output_type": "display_data",
          "data": {
            "text/html": [
              "<img src=\"https://static.wikia.nocookie.net/megamitensei/images/9/9b/P4-CoverArt.jpg/revision/latest/scale-to-width-down/350?cb=20160516234031\"/>"
            ],
            "text/plain": [
              "<IPython.core.display.Image object>"
            ]
          },
          "metadata": {}
        },
        {
          "output_type": "stream",
          "name": "stdout",
          "text": [
            "Gambar 4: https://static.wikia.nocookie.net/megamitensei/images/6/60/Flag_of_Japan.png/revision/latest/scale-to-width-down/25?cb=20130115003127\n"
          ]
        },
        {
          "output_type": "display_data",
          "data": {
            "text/html": [
              "<img src=\"https://static.wikia.nocookie.net/megamitensei/images/6/60/Flag_of_Japan.png/revision/latest/scale-to-width-down/25?cb=20130115003127\"/>"
            ],
            "text/plain": [
              "<IPython.core.display.Image object>"
            ]
          },
          "metadata": {}
        },
        {
          "output_type": "stream",
          "name": "stdout",
          "text": [
            "Gambar 5: https://static.wikia.nocookie.net/megamitensei/images/d/de/Flag_of_the_United_States.png/revision/latest/scale-to-width-down/25?cb=20170330020633\n"
          ]
        },
        {
          "output_type": "display_data",
          "data": {
            "text/html": [
              "<img src=\"https://static.wikia.nocookie.net/megamitensei/images/d/de/Flag_of_the_United_States.png/revision/latest/scale-to-width-down/25?cb=20170330020633\"/>"
            ],
            "text/plain": [
              "<IPython.core.display.Image object>"
            ]
          },
          "metadata": {}
        }
      ],
      "source": [
        "# Install dependencies\n",
        "!pip install beautifulsoup4 requests\n",
        "\n",
        "# Import library\n",
        "import requests\n",
        "from bs4 import BeautifulSoup\n",
        "from IPython.display import Image, display\n",
        "\n",
        "# Target URL\n",
        "url = \"https://megamitensei.fandom.com/wiki/Persona_4\"\n",
        "\n",
        "# Request halaman web\n",
        "response = requests.get(url)\n",
        "if response.status_code == 200:\n",
        "    print(\"Situs berhasil diakses!\")\n",
        "else:\n",
        "    print(f\"Gagal mengakses situs, kode status: {response.status_code}\")\n",
        "\n",
        "# Parsing konten HTML\n",
        "soup = BeautifulSoup(response.content, \"html.parser\")\n",
        "\n",
        "# Mengambil data teks utama (summary)\n",
        "def scrape_summary():\n",
        "    summary = soup.find(\"div\", {\"class\": \"mw-parser-output\"})\n",
        "    if summary:\n",
        "        paragraphs = summary.find_all(\"p\")\n",
        "        for i, p in enumerate(paragraphs[:5]):  # Menampilkan 5 paragraf pertama\n",
        "            print(f\"Paragraf {i+1}:\\n{p.get_text(strip=True)}\\n\")\n",
        "    else:\n",
        "        print(\"Tidak ada data teks ditemukan.\")\n",
        "\n",
        "# Mengambil gambar utama\n",
        "def scrape_images():\n",
        "    images = soup.find_all(\"img\", {\"src\": True})\n",
        "    for i, img in enumerate(images[:5]):  # Membatasi hingga 5 gambar\n",
        "        img_url = img[\"src\"]\n",
        "        print(f\"Gambar {i+1}: {img_url}\")\n",
        "        try:\n",
        "            display(Image(url=img_url))\n",
        "        except Exception as e:\n",
        "            print(f\"Gagal menampilkan gambar: {e}\")\n",
        "\n",
        "# Jalankan fungsi scraping\n",
        "print(\"== Data Teks ==\")\n",
        "scrape_summary()\n",
        "print(\"\\n== Data Gambar ==\")\n",
        "scrape_images()\n"
      ]
    },
    {
      "cell_type": "code",
      "source": [
        "# Install dependencies\n",
        "!pip install beautifulsoup4 requests\n",
        "\n",
        "# Import library\n",
        "import requests\n",
        "from bs4 import BeautifulSoup\n",
        "from IPython.display import Image, display\n",
        "\n",
        "# Target URL\n",
        "url = \"https://megamitensei.fandom.com/wiki/Persona_3_Reload, https://persona.atlus.com/p3r/\"\n",
        "\n",
        "# Request halaman web\n",
        "response = requests.get(url)\n",
        "if response.status_code == 200:\n",
        "    print(\"Situs berhasil diakses!\")\n",
        "else:\n",
        "    print(f\"Gagal mengakses situs, kode status: {response.status_code}\")\n",
        "\n",
        "# Parsing konten HTML\n",
        "soup = BeautifulSoup(response.content, \"html.parser\")\n",
        "\n",
        "# Mengambil data teks utama (summary)\n",
        "def scrape_summary():\n",
        "    summary = soup.find(\"div\", {\"class\": \"mw-parser-output\"})\n",
        "    if summary:\n",
        "        paragraphs = summary.find_all(\"p\")\n",
        "        for i, p in enumerate(paragraphs[:10]):  # Menampilkan 10 paragraf pertama\n",
        "            print(f\"Paragraf {i+1}:\\n{p.get_text(strip=True)}\\n\")\n",
        "    else:\n",
        "        print(\"Tidak ada data teks ditemukan.\")\n",
        "\n",
        "# Mengambil gambar utama\n",
        "def scrape_images():\n",
        "    images = soup.find_all(\"img\", {\"src\": True})\n",
        "    for i, img in enumerate(images[:10]):  # Membatasi hingga 10 gambar\n",
        "        img_url = img[\"src\"]\n",
        "        print(f\"Gambar {i+1}: {img_url}\")\n",
        "        try:\n",
        "            display(Image(url=img_url))\n",
        "        except Exception as e:\n",
        "            print(f\"Gagal menampilkan gambar: {e}\")\n",
        "\n",
        "# Jalankan fungsi scraping\n",
        "print(\"== Data Teks ==\")\n",
        "scrape_summary()\n",
        "print(\"\\n== Data Gambar ==\")\n",
        "scrape_images()\n"
      ],
      "metadata": {
        "colab": {
          "base_uri": "https://localhost:8080/",
          "height": 921
        },
        "id": "DVyf30lceFFW",
        "outputId": "e60a0f2f-32c4-4bfa-e044-306f45684dcb"
      },
      "execution_count": 2,
      "outputs": [
        {
          "output_type": "stream",
          "name": "stdout",
          "text": [
            "Requirement already satisfied: beautifulsoup4 in /usr/local/lib/python3.10/dist-packages (4.12.3)\n",
            "Requirement already satisfied: requests in /usr/local/lib/python3.10/dist-packages (2.32.3)\n",
            "Requirement already satisfied: soupsieve>1.2 in /usr/local/lib/python3.10/dist-packages (from beautifulsoup4) (2.6)\n",
            "Requirement already satisfied: charset-normalizer<4,>=2 in /usr/local/lib/python3.10/dist-packages (from requests) (3.4.0)\n",
            "Requirement already satisfied: idna<4,>=2.5 in /usr/local/lib/python3.10/dist-packages (from requests) (3.10)\n",
            "Requirement already satisfied: urllib3<3,>=1.21.1 in /usr/local/lib/python3.10/dist-packages (from requests) (2.2.3)\n",
            "Requirement already satisfied: certifi>=2017.4.17 in /usr/local/lib/python3.10/dist-packages (from requests) (2024.8.30)\n",
            "Gagal mengakses situs, kode status: 404\n",
            "== Data Teks ==\n",
            "Tidak ada data teks ditemukan.\n",
            "\n",
            "== Data Gambar ==\n",
            "Gambar 1: https://static.wikia.nocookie.net/megamitensei/images/e/e6/Site-logo.png/revision/latest?cb=20210626181118\n"
          ]
        },
        {
          "output_type": "display_data",
          "data": {
            "text/html": [
              "<img src=\"https://static.wikia.nocookie.net/megamitensei/images/e/e6/Site-logo.png/revision/latest?cb=20210626181118\"/>"
            ],
            "text/plain": [
              "<IPython.core.display.Image object>"
            ]
          },
          "metadata": {}
        },
        {
          "output_type": "stream",
          "name": "stdout",
          "text": [
            "Gambar 2: https://static.wikia.nocookie.net/megamitensei/images/e/e6/Site-logo.png/revision/latest?cb=20210626181118\n"
          ]
        },
        {
          "output_type": "display_data",
          "data": {
            "text/html": [
              "<img src=\"https://static.wikia.nocookie.net/megamitensei/images/e/e6/Site-logo.png/revision/latest?cb=20210626181118\"/>"
            ],
            "text/plain": [
              "<IPython.core.display.Image object>"
            ]
          },
          "metadata": {}
        },
        {
          "output_type": "stream",
          "name": "stdout",
          "text": [
            "Gambar 3: https://static.wikia.nocookie.net/ff185fe4-8356-4b6b-ad48-621b95a82a1d\n"
          ]
        },
        {
          "output_type": "display_data",
          "data": {
            "text/html": [
              "<img src=\"https://static.wikia.nocookie.net/ff185fe4-8356-4b6b-ad48-621b95a82a1d\"/>"
            ],
            "text/plain": [
              "<IPython.core.display.Image object>"
            ]
          },
          "metadata": {}
        },
        {
          "output_type": "stream",
          "name": "stdout",
          "text": [
            "Gambar 4: https://static.wikia.nocookie.net/f3fc9271-3d5e-4c73-9afc-e6a9f6154ff1\n"
          ]
        },
        {
          "output_type": "display_data",
          "data": {
            "text/html": [
              "<img src=\"https://static.wikia.nocookie.net/f3fc9271-3d5e-4c73-9afc-e6a9f6154ff1\"/>"
            ],
            "text/plain": [
              "<IPython.core.display.Image object>"
            ]
          },
          "metadata": {}
        },
        {
          "output_type": "stream",
          "name": "stdout",
          "text": [
            "Gambar 5: https://static.wikia.nocookie.net/3f46912f-45a8-47f0-ac9d-6dca02c3a5ca\n"
          ]
        },
        {
          "output_type": "display_data",
          "data": {
            "text/html": [
              "<img src=\"https://static.wikia.nocookie.net/3f46912f-45a8-47f0-ac9d-6dca02c3a5ca\"/>"
            ],
            "text/plain": [
              "<IPython.core.display.Image object>"
            ]
          },
          "metadata": {}
        },
        {
          "output_type": "stream",
          "name": "stdout",
          "text": [
            "Gambar 6: https://static.wikia.nocookie.net/6e8f2e52-ab5a-427f-a836-ab57168161ec\n"
          ]
        },
        {
          "output_type": "display_data",
          "data": {
            "text/html": [
              "<img src=\"https://static.wikia.nocookie.net/6e8f2e52-ab5a-427f-a836-ab57168161ec\"/>"
            ],
            "text/plain": [
              "<IPython.core.display.Image object>"
            ]
          },
          "metadata": {}
        }
      ]
    }
  ]
}